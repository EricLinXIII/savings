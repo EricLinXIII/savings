{
 "cells": [
  {
   "cell_type": "markdown",
   "metadata": {},
   "source": [
    "# Savings py"
   ]
  },
  {
   "cell_type": "markdown",
   "metadata": {},
   "source": [
    "Each month you put your MONTHLY SAVING [mthSavings] = [salaryInput - expensesInput] into an asset with an average annual of [investmentReturn].\n",
    "\n",
    "Your goal is to reach a some amount of money that using SWR rate, your probability to get bankrupcy tends to 0%.\n",
    "\n",
    "FMExpRet: Future Monthly Expenses after Retirement. If you want to have to different expenses in the future.\n",
    "\n",
    "The result is mesured in months if output=\"m\" or years if output=\"y\"."
   ]
  },
  {
   "cell_type": "code",
   "execution_count": 2,
   "metadata": {},
   "outputs": [],
   "source": [
    "import math\n",
    "def monthsToRetire(salaryInput, expensesInput, investmentReturn, inflation, SWR, FMExpRet=0, output=\"m\", \n",
    "                   currentPortfolio=0,taxes=0):\n",
    "\n",
    "    if(expensesInput > 1):\n",
    "        mthExpenses = expensesInput\n",
    "    else:\n",
    "        mthExpenses = salaryInput * expensesInput\n",
    "    \n",
    "    mthSavings = salaryInput-mthExpenses\n",
    "    monthlyReturns = (((1+(investmentReturn/100))**(1/12))-1)\n",
    "    monthlyInflation = -(((1+(inflation/100))**(1/12))-1)\n",
    "    \n",
    "    netReturns = monthlyReturns + monthlyInflation\n",
    "    \n",
    "    if FMExpRet>0:\n",
    "        capitalNeeded = (((FMExpRet*12)/(SWR/100))-currentPortfolio)*(1+(taxes/100))\n",
    "    else:\n",
    "        capitalNeeded = (((mthExpenses*12)/(SWR/100))-currentPortfolio)*(1+(taxes/100))\n",
    "    \n",
    "    a = math.log((1 + (capitalNeeded * netReturns) / mthSavings))\n",
    "    b = math.log(1 + netReturns)\n",
    "    \n",
    "    n = a/b\n",
    "    \n",
    "    if output==\"m\":\n",
    "        n\n",
    "    elif output == \"y\":\n",
    "        n=n/12\n",
    "    \n",
    "    return n"
   ]
  },
  {
   "cell_type": "code",
   "execution_count": 3,
   "metadata": {},
   "outputs": [
    {
     "name": "stdout",
     "output_type": "stream",
     "text": [
      "35.32959281173836\n"
     ]
    }
   ],
   "source": [
    "print(monthsToRetire(1000, 800, 8, 2, 3.5, output=\"y\"))"
   ]
  }
 ],
 "metadata": {
  "kernelspec": {
   "display_name": "Python 3",
   "language": "python",
   "name": "python3"
  },
  "language_info": {
   "codemirror_mode": {
    "name": "ipython",
    "version": 3
   },
   "file_extension": ".py",
   "mimetype": "text/x-python",
   "name": "python",
   "nbconvert_exporter": "python",
   "pygments_lexer": "ipython3",
   "version": "3.6.5"
  }
 },
 "nbformat": 4,
 "nbformat_minor": 2
}
